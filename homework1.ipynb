{
 "nbformat": 4,
 "nbformat_minor": 2,
 "metadata": {
  "language_info": {
   "name": "python",
   "codemirror_mode": {
    "name": "ipython",
    "version": 3
   },
   "version": "3.7.6-final"
  },
  "orig_nbformat": 2,
  "file_extension": ".py",
  "mimetype": "text/x-python",
  "name": "python",
  "npconvert_exporter": "python",
  "pygments_lexer": "ipython3",
  "version": 3,
  "kernelspec": {
   "name": "python37664bitvenvvenvc6ea16f400e2483abbbae9b7372f43dd",
   "display_name": "Python 3.7.6 64-bit ('.venv': venv)"
  }
 },
 "cells": [
  {
   "cell_type": "markdown",
   "metadata": {},
   "source": [
    "# Homework 1\n",
    "By Quentin Barnes  \n",
    "CS 344"
   ]
  },
  {
   "cell_type": "markdown",
   "metadata": {},
   "source": [
    "### Part one: Introspection:\n",
    "Introspection is the practice of looking inward, towards one’s own thoughts in an attempt to gain insight on how we work.  It is a practice that is as old as Plato and is very useful in the field of psychology.  Because of this, it is useful in modeling for AI, however only to an extent.  It is useful because a lot of the times we can teach the computers to solve the problems the same ways that we do.  This does have some limitations and drawbacks, though, since computers are mechanical in nature.  Sometimes the way that we do things in our heads is very inefficient because we do have limitations.  \n",
    "  \n",
    "I think that an interesting area to look at is vision.  As we are teaching computers to actually see, we are doing it in a way that is similar to how we learned to see.  For computers we have people label a bunch of objects and then feed it to programs to let them learn what those objects look like, which is a lot like how humans learn to recognize things.  However, even in this case, they don’t do it exactly the same, and the program can also be fooled a lot easier.  "
   ]
  },
  {
   "cell_type": "markdown",
   "metadata": {},
   "source": [
    "### Part 2: Traveling Salesman Probelm: "
   ]
  },
  {
   "cell_type": "code",
   "execution_count": 4,
   "metadata": {},
   "outputs": [
    {
     "name": "stdout",
     "output_type": "stream",
     "text": "Initial: \t\t [3, 8, 9, 1, 11, 12, 16, 4, 10, 2, 6, 17, 18, 13, 15, 7, 14, 5, 19, 0]   Distance:  196\nHill Climbing solution:  [2, 17, 9, 18, 11, 16, 15, 4, 3, 1, 19, 6, 13, 12, 10, 7, 14, 5, 8, 0]   Distance:  59   Time:  0.0029489994049072266\nSim Anneal solution: \t [14, 5, 6, 16, 10, 9, 17, 3, 2, 13, 8, 0, 11, 12, 4, 7, 18, 15, 19, 1]   Distance:  60   Time:  0.0835409164428711\n"
    }
   ],
   "source": [
    "\"\"\"\n",
    "This module implements local search on the Traveling Salesman Problem.  It uses\n",
    "simulated annealing and hill climbing to do this.  It will randomly create a city\n",
    "that has a list of linked cities in it.  It will then use the above algorithms to\n",
    "try and find the shortest path through them.\n",
    "\n",
    "@author: Quentin Barnes\n",
    "\"\"\"\n",
    "import math\n",
    "import time\n",
    "from search import Problem, hill_climbing, simulated_annealing, \\\n",
    "    exp_schedule, genetic_search\n",
    "from random import randrange, shuffle\n",
    "\n",
    "\n",
    "class TPSVariant(Problem):\n",
    "    \"\"\"\n",
    "    State: Current order of citys\n",
    "    Action: Take the city with the longest distance to the next one, then make a list\n",
    "    of all the other cities swaped with that one.\n",
    "    Value: Total distance took to travel between the cities\n",
    "    \"\"\"\n",
    "\n",
    "    # Sets the initial state, the size of the city, the configuration of the cities, and the maximum distance\n",
    "    def __init__(self, initial, citySize, cityConfig, maximum, connectHome):\n",
    "        self.initial = initial[:]\n",
    "        self.citySize = citySize\n",
    "        self.cityConfig = cityConfig\n",
    "        self.maximum = maximum\n",
    "        self.connectHome = connectHome\n",
    "\n",
    "    # It takes the city with the max distance to the next one and then\n",
    "    # makes a list of that city swaped with each other city as the actions\n",
    "    def actions(self, state):\n",
    "        max = self.getMaxDistNode(state)\n",
    "        options = []\n",
    "        for i in range(self.citySize):\n",
    "            if i != max:\n",
    "                newOption = state[:]\n",
    "                newOption[i], newOption[max] = newOption[max], newOption[i]\n",
    "                options.append(newOption[:])\n",
    "        return options[:]\n",
    "\n",
    "    # Result is the action taken\n",
    "    def result(self, state, action):\n",
    "        return action[:]\n",
    "\n",
    "    # Inverts the realValue since the algorithms are looking for a maximum,\n",
    "    # while we are looking for the minimum distance\n",
    "    def value(self, state):\n",
    "        return self.maximum - self.realValue(state)\n",
    "\n",
    "    # Uses the city configuration to sum up the total distance that the salesman travels\n",
    "    def realValue(self, state):\n",
    "        totalDist = 0\n",
    "        for i in range(self.citySize - 1):\n",
    "            totalDist += self.cityConfig[state[i]][state[i + 1]]\n",
    "        if self.connectHome:\n",
    "            totalDist += self.cityConfig[self.citySize-1][1]\n",
    "        return totalDist\n",
    "\n",
    "    # Finds and returns the index of the node with the max distance\n",
    "    def getMaxDistNode(self, state):\n",
    "        indexOfMax = 0\n",
    "        lengthOfMax = 0\n",
    "        for n in range(self.citySize - 1):\n",
    "            if self.cityConfig[state[n]][state[n + 1]] > lengthOfMax:\n",
    "                indexOfMax = n\n",
    "                lengthOfMax = self.cityConfig[state[n]][state[n + 1]]\n",
    "        return indexOfMax\n",
    "\n",
    "\n",
    "if __name__ == '__main__':\n",
    "\n",
    "    # Sets the values of how large the city is and the max distance between them\n",
    "    # Also sets if the problem should be a loop or not\n",
    "    fillInSize = citySize = 20\n",
    "    maxDistance = 20\n",
    "    connectHome = False\n",
    "\n",
    "    # Creates the city configuration\n",
    "    maximum = citySize * maxDistance\n",
    "    cityConfig = [[0 for x in range(citySize)] for y in range(citySize)]\n",
    "    for i in range(citySize):\n",
    "        fillInSize -= 1\n",
    "        for j in range(fillInSize):\n",
    "            cityConfig[i + j + 1][i] = cityConfig[i][i +\n",
    "                                                     j + 1] = randrange(1, maxDistance, 1)\n",
    "\n",
    "    # Creates an initial state\n",
    "    initial = [x for x in range(citySize)]\n",
    "    shuffle(initial)\n",
    "\n",
    "    p = TPSVariant(initial, citySize, cityConfig, maximum, connectHome)\n",
    "\n",
    "    time1 = time.time()\n",
    "    hill_solution = hill_climbing(p)\n",
    "    time2 = time.time()\n",
    "\n",
    "    simAneal = simulated_annealing(\n",
    "        p,\n",
    "        exp_schedule(k=20, lam=0.005, limit=1000)\n",
    "    )\n",
    "    time3 = time.time()\n",
    "\n",
    "    print(\"Initial: \\t\\t\\t\\t\\t\", initial, \"  Distance: \", p.realValue(initial))\n",
    "    print(\"Hill Climbing solution: \\t\", hill_solution,\n",
    "          \"  Distance: \", p.realValue(hill_solution), \"  Time: \", (time2 - time1))\n",
    "    print(\"Sim Anneal solution: \\t\\t\", simAneal,\n",
    "          \"  Distance: \", p.realValue(simAneal), \"  Time: \", (time3 - time2))\n"
   ]
  },
  {
   "cell_type": "markdown",
   "metadata": {},
   "source": [
    "This program is creates a random map and then uses hill climbing and simulated annealing to try and solve the problem.  The states for the problem are lists of the order that the cities will be traveld to.  It was unclear whether the salesman was supposed to travel back to where he started in the end or not, so I made it a option for the program.  The actions that I chose were "
   ]
  },
  {
   "cell_type": "code",
   "execution_count": null,
   "metadata": {},
   "outputs": [],
   "source": []
  },
  {
   "cell_type": "code",
   "execution_count": null,
   "metadata": {},
   "outputs": [],
   "source": []
  },
  {
   "cell_type": "code",
   "execution_count": null,
   "metadata": {},
   "outputs": [],
   "source": []
  }
 ]
}