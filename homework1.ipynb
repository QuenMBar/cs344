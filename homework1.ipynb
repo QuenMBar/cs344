{
 "nbformat": 4,
 "nbformat_minor": 2,
 "metadata": {
  "language_info": {
   "name": "python",
   "codemirror_mode": {
    "name": "ipython",
    "version": 3
   },
   "version": "3.7.6-final"
  },
  "orig_nbformat": 2,
  "file_extension": ".py",
  "mimetype": "text/x-python",
  "name": "python",
  "npconvert_exporter": "python",
  "pygments_lexer": "ipython3",
  "version": 3,
  "kernelspec": {
   "name": "python37664bitvenvvenvc6ea16f400e2483abbbae9b7372f43dd",
   "display_name": "Python 3.7.6 64-bit ('.venv': venv)"
  }
 },
 "cells": [
  {
   "cell_type": "markdown",
   "metadata": {},
   "source": [
    "# Homework 1\n",
    "By Quentin Barnes  \n",
    "CS 344"
   ]
  },
  {
   "cell_type": "markdown",
   "metadata": {},
   "source": [
    "### Part one: Introspection:\n",
    "Introspection is the practice of looking inward, towards one’s own thoughts in an attempt to gain insight on how we work.  It is a practice that is as old as Plato and is very useful in the field of psychology.  Because of this, it is useful in modeling for AI, however only to an extent.  It is useful because a lot of the times we can teach the computers to solve the problems the same ways that we do.  This does have some limitations and drawbacks, though, since computers are mechanical in nature.  Sometimes the way that we do things in our heads is very inefficient because we do have limitations.  \n",
    "  \n",
    "I think that an interesting area to look at is vision.  As we are teaching computers to actually see, we are doing it in a way that is similar to how we learned to see.  For computers we have people label a bunch of objects and then feed it to programs to let them learn what those objects look like, which is a lot like how humans learn to recognize things.  However, even in this case, they don’t do it exactly the same, and the program can also be fooled a lot easier.  "
   ]
  },
  {
   "cell_type": "markdown",
   "metadata": {},
   "source": [
    "### Part 2: Traveling Salesman Probelm: "
   ]
  },
  {
   "cell_type": "code",
   "execution_count": 1,
   "metadata": {},
   "outputs": [
    {
     "name": "stdout",
     "output_type": "stream",
     "text": "\n\n"
    },
    {
     "ename": "TypeError",
     "evalue": "unsupported operand type(s) for +: 'int' and 'str'",
     "output_type": "error",
     "traceback": [
      "\u001b[0;31m---------------------------------------------------------------------------\u001b[0m",
      "\u001b[0;31mTypeError\u001b[0m                                 Traceback (most recent call last)",
      "\u001b[0;32m<ipython-input-1-ad7953c68b26>\u001b[0m in \u001b[0;36m<module>\u001b[0;34m\u001b[0m\n\u001b[1;32m     48\u001b[0m         \u001b[0mprint\u001b[0m\u001b[0;34m(\u001b[0m\u001b[0;34m'\\n'\u001b[0m\u001b[0;34m)\u001b[0m\u001b[0;34m\u001b[0m\u001b[0;34m\u001b[0m\u001b[0m\n\u001b[1;32m     49\u001b[0m         \u001b[0;32mfor\u001b[0m \u001b[0mj\u001b[0m \u001b[0;32min\u001b[0m \u001b[0mrange\u001b[0m\u001b[0;34m(\u001b[0m\u001b[0mcitySize\u001b[0m\u001b[0;34m)\u001b[0m\u001b[0;34m:\u001b[0m\u001b[0;34m\u001b[0m\u001b[0;34m\u001b[0m\u001b[0m\n\u001b[0;32m---> 50\u001b[0;31m             \u001b[0mprint\u001b[0m\u001b[0;34m(\u001b[0m\u001b[0mi\u001b[0m \u001b[0;34m+\u001b[0m \u001b[0;34m' : '\u001b[0m \u001b[0;34m+\u001b[0m \u001b[0mj\u001b[0m\u001b[0;34m)\u001b[0m\u001b[0;34m\u001b[0m\u001b[0;34m\u001b[0m\u001b[0m\n\u001b[0m\u001b[1;32m     51\u001b[0m \u001b[0;34m\u001b[0m\u001b[0m\n\u001b[1;32m     52\u001b[0m     \u001b[0;31m# For loop to do find solutions to random starting variables\u001b[0m\u001b[0;34m\u001b[0m\u001b[0;34m\u001b[0m\u001b[0;34m\u001b[0m\u001b[0m\n",
      "\u001b[0;31mTypeError\u001b[0m: unsupported operand type(s) for +: 'int' and 'str'"
     ]
    }
   ],
   "source": [
    "\"\"\"\n",
    "This module implements local search on a simple sine function variant.  It uses\n",
    "simulated annealing and hill climbing to do this.  It also implements random restarts\n",
    "to average out the solutions and find a max over a given number of runs.\n",
    "\n",
    "@author: Quentin Barnes\n",
    "(Based on code by kvlinden)\n",
    "\"\"\"\n",
    "import math\n",
    "import time\n",
    "from search import Problem, hill_climbing, simulated_annealing, \\\n",
    "    exp_schedule, genetic_search\n",
    "from random import randrange\n",
    "\n",
    "\n",
    "# class AbsVariant(Problem):\n",
    "#     \"\"\"\n",
    "#     State: x value for the abs function variant f(x)\n",
    "#     Move: a new x value delta steps from the current x (in both directions)\n",
    "#     \"\"\"\n",
    "\n",
    "#     def __init__(self, initial, maximum=30.0, delta=0.001):\n",
    "#         self.initial = initial\n",
    "#         self.maximum = maximum\n",
    "#         self.delta = delta\n",
    "\n",
    "#     def actions(self, state):\n",
    "#         return [state + self.delta, state - self.delta]\n",
    "\n",
    "#     def result(self, stateIgnored, x):\n",
    "#         return x\n",
    "\n",
    "#     def value(self, x):\n",
    "#         return math.fabs(x * math.sin(x))\n",
    "#         # Thought about limiting the problem size but decided against it\n",
    "#         # if 0 <= x <= 30:\n",
    "#         #     return math.fabs(x * math.sin(x))\n",
    "#         # else:\n",
    "#        #     return 0\n",
    "\n",
    "\n",
    "if __name__ == '__main__':\n",
    "\n",
    "    # Formulate a problem with a 2D hill function and a single maximum value.\n",
    "    citySize = 10\n",
    "    cityConfig = []\n",
    "    for i in range(citySize):\n",
    "        print('\\n')\n",
    "        for j in range(citySize):\n",
    "            print(i + ' : ' + j)\n",
    "\n",
    "    # For loop to do find solutions to random starting variables\n",
    "    # for count in range(restartTimes):\n",
    "    #     initial = randrange(0, maximum)\n",
    "    #     time1 = time.time()\n",
    "    #     p = AbsVariant(initial, maximum, delta=1)\n",
    "    #     time2 = time.time()\n",
    "    #     totalValInit += p.value(initial)\n",
    "    #     timeForInit += (time2 - time1)\n",
    "    #     if maxValInit < p.value(initial):\n",
    "    #         maxValInit = p.value(initial)\n",
    "\n",
    "    #     # Solve the problem using hill-climbing.\n",
    "    #     time1 = time.time()\n",
    "    #     hill_solution = hill_climbing(p)\n",
    "    #     time2 = time.time()\n",
    "    #     totalValHill += p.value(hill_solution)\n",
    "    #     timeForHill += (time2 - time1)\n",
    "    #     if maxValHill < p.value(hill_solution):\n",
    "    #         maxValHill = p.value(hill_solution)\n",
    "\n",
    "    #     # Solve the problem using simulated annealing.\n",
    "    #     time1 = time.time()\n",
    "    #     annealing_solution = simulated_annealing(\n",
    "    #         p,\n",
    "    #         exp_schedule(k=20, lam=0.005, limit=1000)\n",
    "    #     )\n",
    "    #     time2 = time.time()\n",
    "    #     totalValAnneal += p.value(annealing_solution)\n",
    "    #     timeForAnneal += (time2 - time1)\n",
    "    #     if maxValAnneal < p.value(annealing_solution):\n",
    "    #         maxValAnneal = p.value(annealing_solution)\n",
    "\n",
    "    # # Print all the max values, average values, and times\n",
    "    # print('Initial: \\t\\t\\t\\t\\t max value: %0.3f' % maxValInit\n",
    "    #       + '\\t\\taverage value: %0.3f' % (totalValInit / restartTimes)\n",
    "    #       + \"\\t\\ttime: %0.3f seconds\" % timeForInit\n",
    "    #       )\n",
    "    # print('Hill-climbing solution: \\t max value: %0.3f' % (maxValHill)\n",
    "    #       + '\\t\\taverage value: %0.3f' % (totalValHill / restartTimes)\n",
    "    #       + \"\\t\\ttime: %0.3f seconds\" % (timeForHill)\n",
    "    #       )\n",
    "    # print('Simulated annealing solution max value: %0.3f' % maxValAnneal\n",
    "    #       + '\\t\\taverage value: %0.3f' % (totalValAnneal / restartTimes)\n",
    "    #       + \"\\t\\ttime: %0.3f seconds\" % (timeForAnneal)\n",
    "    #       )\n"
   ]
  },
  {
   "cell_type": "code",
   "execution_count": null,
   "metadata": {},
   "outputs": [],
   "source": []
  }
 ]
}